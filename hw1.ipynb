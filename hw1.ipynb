{
 "cells": [
  {
   "attachments": {},
   "cell_type": "markdown",
   "metadata": {},
   "source": [
    "作业第一周 Python、Numpy练习\n",
    "1.编写程序打印1-100中所有能被3整除的奇数"
   ]
  },
  {
   "cell_type": "code",
   "execution_count": 4,
   "metadata": {},
   "outputs": [
    {
     "name": "stdout",
     "output_type": "stream",
     "text": [
      "3\n",
      "9\n",
      "15\n",
      "21\n",
      "27\n",
      "33\n",
      "39\n",
      "45\n",
      "51\n",
      "57\n",
      "63\n",
      "69\n",
      "75\n",
      "81\n",
      "87\n",
      "93\n",
      "99\n"
     ]
    }
   ],
   "source": [
    "for i in range(99):\n",
    "    a = i+1\n",
    "    if a%3==0 and a%2==1:\n",
    "        print(a)"
   ]
  },
  {
   "attachments": {},
   "cell_type": "markdown",
   "metadata": {},
   "source": [
    "​2.读取文本文件\"data/story.txt\"，寻找出文件第一行与第二行相同的所有单词\n",
    "提示：可以使用字符串的split()方法分割单词，使用字符串的replace()方法替换删除不需要的标点符号。"
   ]
  },
  {
   "cell_type": "code",
   "execution_count": null,
   "metadata": {},
   "outputs": [],
   "source": [
    "with open(\"data/story.txt\", 'r') as fp:\n",
    "    line1 = fp.readline()\n",
    "    line2 = fp.readline()\n",
    "line1n = ((line1.replace(',', ' ')).replace('.', ' ')).replace('\\n', ' ')\n",
    "line2n = ((line2.replace(',', ' ')).replace('.', ' ')).replace('\\n', ' ')\n",
    "words1 = line1n.split(' ')\n",
    "words2 = line2n.split(' ')\n",
    "words_same = []\n",
    "\n",
    "for i in words1:\n",
    "    for j in words2:\n",
    "        if i == j and (i not in words_same):\n",
    "            words_same.append(i)\n",
    "print('common words:', words_same)"
   ]
  },
  {
   "attachments": {},
   "cell_type": "markdown",
   "metadata": {},
   "source": [
    "​3. Create a 10x10 array with random values and display the minimum and the maximum value of the array."
   ]
  },
  {
   "cell_type": "code",
   "execution_count": 8,
   "metadata": {},
   "outputs": [
    {
     "name": "stdout",
     "output_type": "stream",
     "text": [
      "minimum value: 0.004177115576781354\n",
      "maximum value: 0.9926273963314786\n"
     ]
    },
    {
     "data": {
      "text/plain": [
       "array([[0.39970883, 0.0434269 , 0.39699062, 0.92850611, 0.28149004,\n",
       "        0.7411125 , 0.2120644 , 0.86561611, 0.23391375, 0.28059588],\n",
       "       [0.0125853 , 0.46739086, 0.78567545, 0.72922299, 0.31322615,\n",
       "        0.02583174, 0.54575632, 0.43260171, 0.98139882, 0.85620374],\n",
       "       [0.01849099, 0.6472567 , 0.93026894, 0.08836583, 0.23732218,\n",
       "        0.90439328, 0.17861443, 0.43403282, 0.70982058, 0.9926274 ],\n",
       "       [0.1299316 , 0.62728943, 0.63864993, 0.64679153, 0.6253717 ,\n",
       "        0.95195702, 0.05139336, 0.90867228, 0.10338561, 0.14127526],\n",
       "       [0.95763227, 0.55189177, 0.04189851, 0.37955074, 0.24583529,\n",
       "        0.2568758 , 0.15279763, 0.26197481, 0.67910592, 0.94696591],\n",
       "       [0.55410796, 0.7241746 , 0.81947831, 0.36901562, 0.03165097,\n",
       "        0.03999537, 0.49242787, 0.57388324, 0.2559008 , 0.6154637 ],\n",
       "       [0.701434  , 0.37373054, 0.72462101, 0.3205431 , 0.73486743,\n",
       "        0.93665968, 0.88358789, 0.60954575, 0.69332265, 0.06204302],\n",
       "       [0.06566352, 0.05530375, 0.90195154, 0.95926521, 0.59072427,\n",
       "        0.71588979, 0.04793593, 0.42180806, 0.14208772, 0.40016014],\n",
       "       [0.24610849, 0.13253699, 0.69498012, 0.30878041, 0.05412288,\n",
       "        0.83012616, 0.41088281, 0.84855093, 0.44153251, 0.64846328],\n",
       "       [0.43691827, 0.13559781, 0.74332983, 0.98348257, 0.84795116,\n",
       "        0.00417712, 0.81524524, 0.28618843, 0.78812196, 0.25659836]])"
      ]
     },
     "execution_count": 8,
     "metadata": {},
     "output_type": "execute_result"
    }
   ],
   "source": [
    "import numpy as np\n",
    "a = np.random.rand(10,10)\n",
    "print('minimum value:', a.min())\n",
    "print('maximum value:', a.max())"
   ]
  },
  {
   "attachments": {},
   "cell_type": "markdown",
   "metadata": {},
   "source": [
    "​4. Create a vector of [1,2,… 15] and a vector of [7,8… 12], then reshape them to a 5x3 matrix and a 3x2 matrix respectively, finally multiply  the 5x3 matrix by  the 3x2 matrix (real matrix product，should be 5x2), and print the result."
   ]
  },
  {
   "cell_type": "code",
   "execution_count": 14,
   "metadata": {},
   "outputs": [
    {
     "name": "stdout",
     "output_type": "stream",
     "text": [
      "[[ 58  64]\n",
      " [139 154]\n",
      " [220 244]\n",
      " [301 334]\n",
      " [382 424]]\n"
     ]
    }
   ],
   "source": [
    "import numpy as np\n",
    "a = np.arange(15)+1\n",
    "b = np.arange(6)+7\n",
    "am = np.mat(a).reshape(5,3)\n",
    "bm = np.mat(b).reshape(3,2)\n",
    "r = am*bm\n",
    "print(r)"
   ]
  }
 ],
 "metadata": {
  "kernelspec": {
   "display_name": "Python 3",
   "language": "python",
   "name": "python3"
  },
  "language_info": {
   "codemirror_mode": {
    "name": "ipython",
    "version": 3
   },
   "file_extension": ".py",
   "mimetype": "text/x-python",
   "name": "python",
   "nbconvert_exporter": "python",
   "pygments_lexer": "ipython3",
   "version": "3.9.13"
  },
  "orig_nbformat": 4
 },
 "nbformat": 4,
 "nbformat_minor": 2
}
