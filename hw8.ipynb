{
 "cells": [
  {
   "attachments": {},
   "cell_type": "markdown",
   "metadata": {},
   "source": [
    "### 理解Q学习算法，练习Keras实现 DQN网络  (！注意使用DeepL-3.10服务！)\n",
    "#### 要求：\n",
    "1）设计DQN网络，生成policy_net和target_net<BR>\n",
    "2）调整Q学习算法参数，提高倒立摆保持时间。(可以尝试利用env提供的信息改进reward策略)\n",
    "\n",
    "#### 考核办法：\n",
    "训练100epoch后的性能表现,取保持时间最大的一次（80为及格线，160以上优秀）"
   ]
  },
  {
   "attachments": {},
   "cell_type": "markdown",
   "metadata": {},
   "source": [
    "Gym makes interacting with the game environment really simple:\n",
    "\n",
    "next_state, reward, done, info = env.step(action)\n",
    "Here, action can be either 0 or 1. If we pass those numbers, env, which represents the game environment, will emit the results. done is a boolean value telling whether the game ended or not. next_state space handles all possible state values:\n",
    "(\n",
    "[Cart Position from -4.8 to 4.8],\n",
    "[Cart Velocity from -Inf to Inf],\n",
    "[Pole Angle from -24° to 24°注意，得到的实际数值是弧度!],\n",
    "[Pole Velocity At Tip from -Inf to Inf]\n",
    ")\n",
    "\n",
    "Episode Termination:（OR condition）\n",
    "Pole Angle is more than 12 degrees\n",
    "Cart Position is more than 2.4"
   ]
  },
  {
   "cell_type": "code",
   "execution_count": null,
   "metadata": {},
   "outputs": [],
   "source": [
    "%matplotlib notebook\n",
    "import gym\n",
    "import math\n",
    "import random\n",
    "import numpy as np\n",
    "import matplotlib.pyplot as plt\n",
    "from collections import namedtuple\n",
    "from itertools import count\n",
    "from PIL import Image\n",
    "from tensorflow import keras\n",
    "from keras import layers,Sequential\n",
    "import tensorflow as tf\n",
    "# #Windows调试时!!删除下面2行！！\n",
    "# from pyvirtualdisplay import Display\n",
    "# Display().start()\n",
    "\n",
    "env = gym.make('CartPole-v0',\n",
    "               render_mode='rgb_array').unwrapped\n",
    "env.reset()"
   ]
  },
  {
   "cell_type": "code",
   "execution_count": null,
   "metadata": {},
   "outputs": [],
   "source": [
    "Transition = namedtuple('Transition',\n",
    "                        ('state', 'action', 'next_state', 'reward'))\n",
    "\n",
    "class ReplayMemory(object):\n",
    "\n",
    "    def __init__(self, capacity):\n",
    "        self.capacity = capacity\n",
    "        self.memory = []\n",
    "        self.position = 0\n",
    "\n",
    "    def push(self, *args):\n",
    "        \"\"\"Saves a transition.\"\"\"\n",
    "        if len(self.memory) < self.capacity:\n",
    "            self.memory.append(None)\n",
    "        self.memory[self.position] = Transition(*args)\n",
    "        self.position = (self.position + 1) % self.capacity\n",
    "\n",
    "    def sample(self, batch_size):\n",
    "        return random.sample(self.memory, batch_size)\n",
    "\n",
    "    def __len__(self):\n",
    "        return len(self.memory)"
   ]
  },
  {
   "attachments": {},
   "cell_type": "markdown",
   "metadata": {},
   "source": [
    "### 请在下面设计DQN网络结构\n",
    "输入：图片shape=(40, 90, 3,)<BR>\n",
    "输出：（2，）"
   ]
  },
  {
   "cell_type": "code",
   "execution_count": null,
   "metadata": {},
   "outputs": [],
   "source": [
    "from keras.layers import Dense,Flatten\n",
    "\n",
    "num_actions = 2\n",
    "\n",
    "def create_q_model():\n",
    "    # Network defined by the Deepmind paper\n",
    "    inputs = layers.Input(shape=(40, 90, 3,))\n",
    "\n",
    "    # 可以在这里用函数方式设计模型，也可以用sequential方式构建\n",
    "    #提示最后一层：Dense(num_actions, activation=\"linear\")\n",
    "    x = Flatten()(inputs)\n",
    "    x = Dense(64,activation='relu')(x)\n",
    "    x = Dense(32,activation='relu')(x)\n",
    "    x = Dense(16,activation='relu')(x)\n",
    "    action = Dense(num_actions,activation='linear')(x)\n",
    "\n",
    "    return keras.Model(inputs=inputs, outputs=action)\n",
    "\n",
    "\n",
    "# The first model makes the predictions for Q-values which are used to\n",
    "# make a action.\n",
    "model = create_q_model()\n",
    "# Build a target model for the prediction of future rewards.\n",
    "model_target = create_q_model()\n",
    "model.summary()"
   ]
  },
  {
   "cell_type": "code",
   "execution_count": null,
   "metadata": {},
   "outputs": [],
   "source": [
    "# from keras.layers import Dense\n",
    "\n",
    "# num_actions = 2\n",
    "\n",
    "# def create_q_model():\n",
    "#     # Network defined by the Deepmind paper\n",
    "#     # inputs = layers.Input(shape=(40, 90, 3,))\n",
    "\n",
    "#     # 可以在这里用函数方式设计模型，也可以用sequential方式构建\n",
    "#     #提示最后一层：Dense(num_actions, activation=\"linear\")\n",
    "#     qmodel = Sequential()\n",
    "#     qmodel.add(Dense(32,activation='relu'))\n",
    "#     qmodel.add(Dense(num_actions,activation='linear'))\n",
    "\n",
    "#     qmodel.build(input_shape=(40, 90, 3,))\n",
    "#     return qmodel\n",
    "\n",
    "\n",
    "# # The first model makes the predictions for Q-values which are used to\n",
    "# # make a action.\n",
    "# model = create_q_model()\n",
    "# # Build a target model for the prediction of future rewards.\n",
    "# model_target = create_q_model()\n",
    "# model.summary()"
   ]
  },
  {
   "cell_type": "code",
   "execution_count": null,
   "metadata": {},
   "outputs": [],
   "source": [
    "\n",
    "def get_cart_location(screen_width):\n",
    "    world_width = env.x_threshold * 2\n",
    "    scale = screen_width / world_width\n",
    "    return int(env.state[0] * scale + screen_width / 2.0)  # MIDDLE OF CART\n",
    "\n",
    "def get_screen():\n",
    "    # Returned screen requested by gym is 400x600x3, but is sometimes larger\n",
    "    # such as 800x1200x3. \n",
    "    screen = env.render()\n",
    "    # Cart is in the lower half, so strip off the top and bottom of the screen\n",
    "    screen_height, screen_width,_ = screen.shape\n",
    "    rawscreen=screen = screen[int(screen_height*0.4):int(screen_height * 0.8),:,:]\n",
    "    view_width = int(screen_width * 0.6)\n",
    "    cart_location = get_cart_location(screen_width)\n",
    "    if cart_location < view_width // 2:\n",
    "        slice_range = slice(view_width)\n",
    "    elif cart_location > (screen_width - view_width // 2):\n",
    "        slice_range = slice(-view_width, None)\n",
    "    else:\n",
    "        slice_range = slice(cart_location - view_width // 2,\n",
    "                            cart_location + view_width // 2)\n",
    "    # Strip off the edges, so that we have a square image centered on a cart\n",
    "    screen = screen[:, slice_range, :]\n",
    "    # Convert to float, rescale, convert to torch tensor\n",
    "    # (this doesn't require a copy)\n",
    "    screen=tf.image.resize(screen,(40,90),method='bicubic')/255.0\n",
    "    return screen,rawscreen\n",
    "    "
   ]
  },
  {
   "attachments": {},
   "cell_type": "markdown",
   "metadata": {},
   "source": [
    "### 后续代码可以根据需要进行调参或修改细节"
   ]
  },
  {
   "cell_type": "code",
   "execution_count": null,
   "metadata": {},
   "outputs": [],
   "source": [
    "BATCH_SIZE = 128\n",
    "GAMMA = 0.95\n",
    "EPS_START = 0.8\n",
    "EPS_END = 0.05\n",
    "EPS_DECAY = 200\n",
    "TARGET_UPDATE = 10\n",
    "memory = ReplayMemory(10000)\n",
    "\n",
    "# In the Deepmind paper they use RMSProp however then Adam optimizer\n",
    "# improves training time\n",
    "optimizer = keras.optimizers.Adam(learning_rate=0.00025, clipnorm=1.0)\n",
    "# Using huber loss for stability\n",
    "loss_function = keras.losses.Huber()\n",
    "\n",
    "\n",
    "steps_done = 0\n",
    "def select_action(state):\n",
    "    global steps_done\n",
    "    sample = random.random()\n",
    "    eps_threshold = EPS_END + (EPS_START - EPS_END) * \\\n",
    "        math.exp(-1. * steps_done / EPS_DECAY)\n",
    "    steps_done += 1\n",
    "    \n",
    "    if sample > eps_threshold:\n",
    "        action_probs =model(tf.expand_dims(state, 0), training=False)\n",
    "        action = tf.argmax(action_probs[0]).numpy()\n",
    "        return action\n",
    "    else:\n",
    "        return random.randrange(num_actions)\n",
    "\n",
    "\n",
    "episode_durations = []\n",
    "def plot_durations():\n",
    "    ax1_2.clear()\n",
    "    ax1_2.set_title('Training...')\n",
    "    ax1_2.set_xlabel('Episode')\n",
    "    ax1_2.set_ylabel('Duration')\n",
    "    ax1_2.plot(episode_durations)\n",
    "    fig1.canvas.draw()\n"
   ]
  },
  {
   "cell_type": "code",
   "execution_count": null,
   "metadata": {},
   "outputs": [],
   "source": [
    "def optimize_model():\n",
    "    if len(memory) < BATCH_SIZE:\n",
    "        return\n",
    "    transitions = memory.sample(BATCH_SIZE)\n",
    "    # Transpose the batch (see https://stackoverflow.com/a/19343/3343043 for\n",
    "    # detailed explanation). This converts batch-array of Transitions\n",
    "    # to Transition of batch-arrays.\n",
    "    batch = Transition(*zip(*transitions))\n",
    "\n",
    "    # Compute a mask of non-final states and concatenate the batch elements\n",
    "    # (a final state would've been the one after which simulation ended)\n",
    "    non_final_mask =np.array( tuple(map(lambda s: s is not None,       batch.next_state)))\n",
    "#     print(non_final_mask)\n",
    "    non_final_next_states = tf.stack([s for s in batch.next_state\n",
    "                                                if s is not None])\n",
    "#     print(non_final_next_states.shape)\n",
    "    state_sample = tf.stack(batch.state)\n",
    "\n",
    "    action_sample =np.array( batch.action)\n",
    "    rewards_sample =np.array(batch.reward)\n",
    "    \n",
    "    future_rewards = np.zeros(BATCH_SIZE,dtype='float32')\n",
    "    future_rewards[non_final_mask] =tf.reduce_max( model_target.predict(non_final_next_states,verbose=0), axis=1)\n",
    "\n",
    "    # Q value = reward + discount factor * expected future reward\n",
    "    updated_q_values = rewards_sample + GAMMA * future_rewards\n",
    "\n",
    "    # Create a mask so we only calculate loss on the updated Q-values\n",
    "    masks = tf.one_hot(action_sample, num_actions)\n",
    "\n",
    "    with tf.GradientTape() as tape:\n",
    "        # Train the model on the states and updated Q-values\n",
    "        q_values = model(state_sample)\n",
    "\n",
    "        # Apply the masks to the Q-values to get the Q-value for action taken\n",
    "        q_action = tf.reduce_sum(tf.multiply(q_values, masks), axis=1)\n",
    "        # Calculate loss between new Q-value and old Q-value\n",
    "        loss = loss_function(updated_q_values, q_action)\n",
    "\n",
    "    # Backpropagation\n",
    "    grads = tape.gradient(loss, model.trainable_variables)\n",
    "    optimizer.apply_gradients(zip(grads, model.trainable_variables))\n",
    "\n"
   ]
  },
  {
   "cell_type": "code",
   "execution_count": null,
   "metadata": {},
   "outputs": [],
   "source": [
    "# import warnings\n",
    "# warnings.filterwarnings('ignore')\n",
    "\n",
    "plt.ion()\n",
    "fig1=plt.figure(figsize=(12,4))\n",
    "ax1_1 = fig1.add_subplot(121)\n",
    "ax1_2 = fig1.add_subplot(122)\n",
    "init_screen,rawscreen = get_screen()\n",
    "ax1_1.imshow(rawscreen)\n",
    "fig1.canvas.draw()\n",
    "\n",
    "num_episodes = 100\n",
    "for i_episode in range(num_episodes):\n",
    "    # Initialize the environment and state\n",
    "    env.reset()\n",
    "    last_screen = init_screen\n",
    "    current_screen,_ = get_screen()\n",
    "    state = current_screen - last_screen\n",
    "    for t in count():\n",
    "        # Select and perform an action\n",
    "        action = select_action(state)\n",
    "        ss, reward, done, _, _ = env.step(action)\n",
    "        \n",
    "        ###尝试调整reward策略\n",
    "        #reward=......\n",
    "        if not done:\n",
    "            reward = (t**(1/1.5)/16-0.4) + (-ss[3]**2/8+0.3)\n",
    "        else:\n",
    "            reward = -1\n",
    "        if ss[1]*ss[2]<0:\n",
    "            reward -= 0.5\n",
    "        \n",
    "        # Observe new state\n",
    "        last_screen = current_screen\n",
    "        current_screen,rawscreen = get_screen()\n",
    "\n",
    "        ###以下显示动画会较严重影响运行速度，建议调试期间去除\n",
    "        ax1_1.clear()\n",
    "        if done:\n",
    "            ax1_1.set_title('!!Fail!!')\n",
    "        else:\n",
    "            ax1_1.set_title('score:'+str(t+1))\n",
    "        ax1_1.imshow(rawscreen)\n",
    "        fig1.canvas.draw()\n",
    "        plt.pause(0.001)\n",
    "        ###显示动画会较严重影响运行速度，建议调试期间去除\n",
    "        \n",
    "        if not done:\n",
    "            next_state = current_screen - last_screen\n",
    "        else:\n",
    "            next_state = None\n",
    "\n",
    "        # Store the transition in memory\n",
    "        memory.push(state, action, next_state, reward)\n",
    "\n",
    "        # Move to the next state\n",
    "        state = next_state\n",
    "\n",
    "        # Perform one step of the optimization (on the target network)\n",
    "        optimize_model()\n",
    "        if done:\n",
    "            episode_durations.append(t + 1)\n",
    "            plot_durations()\n",
    "            break\n",
    "    # Update the target network, copying all weights and biases in DQN\n",
    "    if i_episode % TARGET_UPDATE == 0:\n",
    "        model_target.set_weights(model.get_weights())\n",
    "\n",
    "print('Complete')\n",
    "# env.render()\n",
    "env.close()\n",
    "plt.ioff()\n",
    "plt.show()\n",
    "print('最好成绩：', max(episode_durations))"
   ]
  },
  {
   "cell_type": "code",
   "execution_count": 79,
   "metadata": {},
   "outputs": [
    {
     "data": {
      "image/png": "[encoded data removed]",
      "text/plain": [
       "<Figure size 640x480 with 1 Axes>"
      ]
     },
     "metadata": {},
     "output_type": "display_data"
    },
    {
     "data": {
      "text/plain": [
       "0.946521681269927"
      ]
     },
     "execution_count": 79,
     "metadata": {},
     "output_type": "execute_result"
    }
   ],
   "source": [
    "import matplotlib.pyplot as plt\n",
    "import math\n",
    "x = range(160)\n",
    "y = []\n",
    "for i in x:\n",
    "    # y.append(math.tanh((i-80)/60)+0.4)\n",
    "    y.append(i**(1/1.5)/16-0.4)\n",
    "plt.plot(x,y)\n",
    "plt.show()\n",
    "y[100]"
   ]
  },
  {
   "cell_type": "code",
   "execution_count": 77,
   "metadata": {},
   "outputs": [
    {
     "data": {
      "image/png": "[encoded data removed]",
      "text/plain": [
       "<Figure size 640x480 with 1 Axes>"
      ]
     },
     "metadata": {},
     "output_type": "display_data"
    },
    {
     "data": {
      "text/plain": [
       "-0.2"
      ]
     },
     "execution_count": 77,
     "metadata": {},
     "output_type": "execute_result"
    }
   ],
   "source": [
    "import matplotlib.pyplot as plt\n",
    "import math\n",
    "x = []\n",
    "y = []\n",
    "for i in range(4000):\n",
    "    v = i/1000-2\n",
    "    x.append(v)\n",
    "    y.append(-v**2/8+0.3)\n",
    "plt.plot(x,y)\n",
    "plt.show()\n",
    "y[0]"
   ]
  },
  {
   "cell_type": "code",
   "execution_count": null,
   "metadata": {},
   "outputs": [],
   "source": []
  },
  {
   "cell_type": "code",
   "execution_count": null,
   "metadata": {},
   "outputs": [],
   "source": []
  },
  {
   "cell_type": "code",
   "execution_count": null,
   "metadata": {},
   "outputs": [],
   "source": []
  }
 ],
 "metadata": {
  "kernelspec": {
   "display_name": "Python 3",
   "language": "python",
   "name": "python3"
  },
  "language_info": {
   "codemirror_mode": {
    "name": "ipython",
    "version": 3
   },
   "file_extension": ".py",
   "mimetype": "text/x-python",
   "name": "python",
   "nbconvert_exporter": "python",
   "pygments_lexer": "ipython3",
   "version": "3.9.13"
  },
  "orig_nbformat": 4
 },
 "nbformat": 4,
 "nbformat_minor": 2
}
